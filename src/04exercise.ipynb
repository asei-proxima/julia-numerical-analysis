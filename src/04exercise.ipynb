{
 "cells": [
  {
   "cell_type": "code",
   "execution_count": 1,
   "metadata": {},
   "outputs": [
    {
     "data": {
      "text/plain": [
       "f (generic function with 1 method)"
      ]
     },
     "metadata": {},
     "output_type": "display_data"
    }
   ],
   "source": [
    "f(x) = sin(x) - 3/4"
   ]
  },
  {
   "cell_type": "code",
   "execution_count": 2,
   "metadata": {},
   "outputs": [
    {
     "name": "stdout",
     "output_type": "stream",
     "text": [
      "0 : 0.0, 1.5707963267948966 : -0.04289321881345254\n",
      "1 : 0.7853981633974483, 1.5707963267948966 : 0.17387953251128674\n",
      "2 : 0.7853981633974483, 1.1780972450961724 : 0.08146961230254524\n",
      "3 : 0.7853981633974483, 0.9817477042468103 : 0.023010453362736882\n",
      "4 : 0.7853981633974483, 0.8835729338221293 : -0.009048874645040894\n",
      "5 : 0.8344855486097889, 0.8835729338221293 : 0.0072088465064845675\n",
      "6 : 0.8344855486097889, 0.859029241215959 : -0.0008636054765407408\n",
      "7 : 0.8467573949128739, 0.859029241215959 : 0.0031867990436125204\n",
      "8 : 0.8467573949128739, 0.8528933180644165 : 0.0011651319096863677\n",
      "9 : 0.8467573949128739, 0.8498253564886452 : 0.0001516458062149617\n",
      "10 : 0.8467573949128739, 0.8482913757007595 : -0.0003557593369665213\n",
      "11 : 0.8475243853068167, 0.8482913757007595 : -0.00010200162216478237\n",
      "12 : 0.8479078805037881, 0.8482913757007595 : 2.48358801596682e-5\n",
      "13 : 0.8479078805037881, 0.8480996281022738 : -3.857942426033212e-5\n",
      "14 : 0.848003754303031, 0.8480996281022738 : -6.870910328360402e-6\n",
      "15 : 0.8480516912026523, 0.8480996281022738 : 8.982700350657069e-6\n",
      "16 : 0.8480516912026523, 0.848075659652463 : 1.0559488693440144e-6\n",
      "17 : 0.8480516912026523, 0.8480636754275577 : -2.907467265056418e-6\n",
      "18 : 0.848057683315105, 0.8480636754275577 : -9.257558316599912e-7\n",
      "19 : 0.8480606793713313, 0.8480636754275577 : 6.509736039106429e-8\n",
      "20 : 0.8480606793713313, 0.8480621773994446 : -4.3032902519168914e-7\n",
      "21 : 0.848061428385388, 0.8480621773994446 : -1.826157798312522e-7\n",
      "22 : 0.8480618028924163, 0.8480621773994446 : -5.875919661946227e-8\n",
      "23 : 0.8480619901459304, 0.8480621773994446 : 3.16908521647008e-9\n"
     ]
    }
   ],
   "source": [
    "left, right = 0.0, π/2 # 最初の区間の左端と右端．\n",
    "\n",
    "sq = [ left right ] # 区間情報を記録しておく．これは横ベクトル．\n",
    "\n",
    "for i in 0:100\n",
    "    av = (left + right)/2 # 区間の真ん中の値\n",
    "\n",
    "    println(\"$i : $left, $right : $(f(av))\") # 状況を画面に\n",
    "\n",
    "    if abs(f(av)) < 1.0e-8  # 8桁ぐらい合っていたらループを脱出\n",
    "        break\n",
    "    end\n",
    "\n",
    "    if f(left)*f(av) < 0 # f(left)と f(av) が異なる符号ならば\n",
    "        right = av # 次の区間は [ left, av ] に.\n",
    "    else\n",
    "        left = av # そうでなければこちら.\n",
    "    end\n",
    "    sq = vcat(sq, [ left right ]) # 新しい区間を sq の下に追加．\n",
    "end"
   ]
  },
  {
   "cell_type": "code",
   "execution_count": 3,
   "metadata": {},
   "outputs": [],
   "source": [
    "using NLsolve"
   ]
  },
  {
   "cell_type": "code",
   "execution_count": 4,
   "metadata": {},
   "outputs": [
    {
     "data": {
      "text/plain": [
       "nls (generic function with 1 method)"
      ]
     },
     "metadata": {},
     "output_type": "display_data"
    }
   ],
   "source": [
    "function nls(func, params...; ini = [0.0])\n",
    "    if typeof(ini) <: Number\n",
    "        r = nlsolve((vout,vin)->vout[1]=func(vin[1],params...), [ini])\n",
    "        v = r.zero[1]\n",
    "    else\n",
    "        r = nlsolve((vout,vin)->vout .= func(vin,params...), ini)\n",
    "        v = r.zero\n",
    "    end\n",
    "    return v, r.f_converged\n",
    "end"
   ]
  },
  {
   "cell_type": "code",
   "execution_count": 5,
   "metadata": {},
   "outputs": [
    {
     "data": {
      "text/plain": [
       "(0.8480620788988703, true)"
      ]
     },
     "metadata": {},
     "output_type": "display_data"
    }
   ],
   "source": [
    "sol = nls(f, ini = 0.0)"
   ]
  },
  {
   "cell_type": "code",
   "execution_count": 6,
   "metadata": {},
   "outputs": [
    {
     "data": {
      "text/plain": [
       "g (generic function with 1 method)"
      ]
     },
     "metadata": {},
     "output_type": "display_data"
    }
   ],
   "source": [
    "function g(v)\n",
    "    x, y, z = v\n",
    "    return [\n",
    "        x+2y+z+1\n",
    "        x^2+2y^2+z^2-10.0\n",
    "        sin(x+y+z)-0.7\n",
    "    ]\n",
    "end"
   ]
  },
  {
   "cell_type": "code",
   "execution_count": 7,
   "metadata": {},
   "outputs": [
    {
     "data": {
      "text/plain": [
       "([1.7458493588318549, -1.7753974966107529, 0.8049456343896508], true)"
      ]
     },
     "metadata": {},
     "output_type": "display_data"
    }
   ],
   "source": [
    "nls(g, ini = [1.0, 0.0, 0.0])"
   ]
  }
 ],
 "metadata": {
  "kernelspec": {
   "display_name": "Julia 1.10.2",
   "language": "julia",
   "name": "julia-1.10"
  },
  "language_info": {
   "file_extension": ".jl",
   "mimetype": "application/julia",
   "name": "julia",
   "version": "1.10.2"
  }
 },
 "nbformat": 4,
 "nbformat_minor": 2
}
